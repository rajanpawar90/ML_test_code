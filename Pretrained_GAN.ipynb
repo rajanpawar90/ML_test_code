{
  "nbformat": 4,
  "nbformat_minor": 0,
  "metadata": {
    "colab": {
      "name": "Pretrained GAN.ipynb",
      "provenance": [],
      "collapsed_sections": [],
      "include_colab_link": true
    },
    "kernelspec": {
      "name": "python3",
      "display_name": "Python 3"
    },
    "accelerator": "GPU"
  },
  "cells": [
    {
      "cell_type": "markdown",
      "metadata": {
        "id": "view-in-github",
        "colab_type": "text"
      },
      "source": [
        "<a href=\"https://colab.research.google.com/github/rajanpawar90/ML_test_code/blob/master/Pretrained_GAN.ipynb\" target=\"_parent\"><img src=\"https://colab.research.google.com/assets/colab-badge.svg\" alt=\"Open In Colab\"/></a>"
      ]
    },
    {
      "cell_type": "code",
      "metadata": {
        "id": "2Nd5y8KI9C7D",
        "colab_type": "code",
        "colab": {}
      },
      "source": [
        "import fastai\n",
        "from fastai.vision import *\n",
        "from fastai.callbacks import *\n",
        "from fastai.vision.gan import *"
      ],
      "execution_count": null,
      "outputs": []
    },
    {
      "cell_type": "markdown",
      "metadata": {
        "id": "DJZr7p8E-bs_",
        "colab_type": "text"
      },
      "source": [
        "#Crappified the data"
      ]
    },
    {
      "cell_type": "code",
      "metadata": {
        "id": "bTzjnGkG_OH1",
        "colab_type": "code",
        "colab": {}
      },
      "source": [
        "from google.colab import drive\n",
        "drive.mount('/content/drive')"
      ],
      "execution_count": null,
      "outputs": []
    },
    {
      "cell_type": "code",
      "metadata": {
        "id": "Or0JJx-Y9FDw",
        "colab_type": "code",
        "colab": {}
      },
      "source": [
        "from pathlib import Path\n",
        "path = Path('/content/drive/My Drive/spacenet/vegas')\n",
        "path_hr = path/'images'\n",
        "path_lr = path/'crappy'"
      ],
      "execution_count": null,
      "outputs": []
    },
    {
      "cell_type": "code",
      "metadata": {
        "id": "prBVJ09m-dYr",
        "colab_type": "code",
        "colab": {}
      },
      "source": [
        "from fastai.vision import *\n",
        "from PIL import Image, ImageDraw, ImageFont\n",
        "\n",
        "class crappifier(object):\n",
        "    def __init__(self, path_lr, path_hr):\n",
        "        self.path_lr = path_lr\n",
        "        self.path_hr = path_hr           \n",
        "        \n",
        "    def __call__(self, fn, i):       \n",
        "        dest = self.path_lr/fn.relative_to(self.path_hr)    \n",
        "        dest.parent.mkdir(parents=True, exist_ok=True)\n",
        "        img = PIL.Image.open(fn)\n",
        "        targ_sz = resize_to(img, 96, use_min=True)\n",
        "        img = img.resize(targ_sz, resample=PIL.Image.BILINEAR).convert('RGB')\n",
        "        w,h = img.size\n",
        "        q = random.randint(10,70)\n",
        "        ImageDraw.Draw(img).text((random.randint(0,w//2),random.randint(0,h//2)), str(q), fill=(255,255,255))\n",
        "        img.save(dest, quality=q)\n"
      ],
      "execution_count": null,
      "outputs": []
    },
    {
      "cell_type": "code",
      "metadata": {
        "id": "ll6LyhkA-fp3",
        "colab_type": "code",
        "colab": {}
      },
      "source": [
        "#run the crappifier on high resolution images in images folder\n",
        "il = ImageList.from_folder(path_hr)\n",
        "parallel(crappifier(path_lr, path_hr), il.items)"
      ],
      "execution_count": null,
      "outputs": []
    },
    {
      "cell_type": "code",
      "metadata": {
        "id": "l97R8HYJ_Swo",
        "colab_type": "code",
        "colab": {}
      },
      "source": [
        "bs,size=32, 128\n",
        "# bs,size = 24,160\n",
        "#bs,size = 8,256\n",
        "arch = models.resnet34"
      ],
      "execution_count": null,
      "outputs": []
    },
    {
      "cell_type": "markdown",
      "metadata": {
        "id": "xV-Nbz9__YYr",
        "colab_type": "text"
      },
      "source": [
        "# Pre-train generator"
      ]
    },
    {
      "cell_type": "code",
      "metadata": {
        "id": "A6enUCwR_aZL",
        "colab_type": "code",
        "colab": {}
      },
      "source": [
        "arch = models.resnet34\n",
        "src = ImageImageList.from_folder(path_lr).split_by_rand_pct(0.1, seed=42)"
      ],
      "execution_count": null,
      "outputs": []
    },
    {
      "cell_type": "code",
      "metadata": {
        "id": "qhuW9oEb_c7f",
        "colab_type": "code",
        "colab": {}
      },
      "source": [
        "import os\n",
        "def get_data(bs,size):\n",
        "    data = (src.label_from_func(lambda x: path_hr/x.name)\n",
        "           .transform(get_transforms(max_zoom=2.), size=size, tfm_y=True)\n",
        "           .databunch(bs=bs).normalize(imagenet_stats, do_y=True))\n",
        "\n",
        "    data.c = 3\n",
        "    return data"
      ],
      "execution_count": null,
      "outputs": []
    },
    {
      "cell_type": "code",
      "metadata": {
        "id": "xqUMZSXn_pya",
        "colab_type": "code",
        "colab": {}
      },
      "source": [
        "data_gen = get_data(bs,size)"
      ],
      "execution_count": null,
      "outputs": []
    },
    {
      "cell_type": "code",
      "metadata": {
        "id": "IO6f24Fg_r5P",
        "colab_type": "code",
        "colab": {}
      },
      "source": [
        "#show sample images\n",
        "data_gen.show_batch(4)"
      ],
      "execution_count": null,
      "outputs": []
    },
    {
      "cell_type": "code",
      "metadata": {
        "id": "yHNA1iV4_ulj",
        "colab_type": "code",
        "colab": {}
      },
      "source": [
        "wd = 1e-3"
      ],
      "execution_count": null,
      "outputs": []
    },
    {
      "cell_type": "code",
      "metadata": {
        "id": "jOiysxryFxnt",
        "colab_type": "code",
        "colab": {}
      },
      "source": [
        "y_range = (-3.,3.)"
      ],
      "execution_count": null,
      "outputs": []
    },
    {
      "cell_type": "code",
      "metadata": {
        "id": "HHHf9fL7FzMb",
        "colab_type": "code",
        "colab": {}
      },
      "source": [
        "loss_gen = MSELossFlat()"
      ],
      "execution_count": null,
      "outputs": []
    },
    {
      "cell_type": "code",
      "metadata": {
        "id": "CDlCYzEpF0qW",
        "colab_type": "code",
        "colab": {}
      },
      "source": [
        "def create_gen_learner():\n",
        "    return unet_learner(data_gen, arch, wd=wd, blur=True, norm_type=NormType.Weight,\n",
        "                         self_attention=True, y_range=y_range, loss_func=loss_gen)"
      ],
      "execution_count": null,
      "outputs": []
    },
    {
      "cell_type": "code",
      "metadata": {
        "id": "Kh8SCYAVF2tG",
        "colab_type": "code",
        "colab": {}
      },
      "source": [
        "learn_gen = create_gen_learner()"
      ],
      "execution_count": null,
      "outputs": []
    },
    {
      "cell_type": "code",
      "metadata": {
        "id": "XOotphlNF4NX",
        "colab_type": "code",
        "colab": {}
      },
      "source": [
        "learn_gen.fit_one_cycle(2, pct_start=0.8)"
      ],
      "execution_count": null,
      "outputs": []
    },
    {
      "cell_type": "code",
      "metadata": {
        "id": "8jTOGljlGQYK",
        "colab_type": "code",
        "colab": {}
      },
      "source": [
        "#re-run the learn.gen after freezing layers\n",
        "learn_gen.unfreeze()\n",
        "learn_gen.fit_one_cycle(3, slice(1e-6,1e-3))"
      ],
      "execution_count": null,
      "outputs": []
    },
    {
      "cell_type": "code",
      "metadata": {
        "id": "KNl76PXWGhBg",
        "colab_type": "code",
        "colab": {}
      },
      "source": [
        "learn_gen.show_results(rows=4)"
      ],
      "execution_count": null,
      "outputs": []
    },
    {
      "cell_type": "code",
      "metadata": {
        "id": "OEyUc-tsGnvB",
        "colab_type": "code",
        "colab": {}
      },
      "source": [
        "learn_gen.save('gen-pre2')"
      ],
      "execution_count": null,
      "outputs": []
    },
    {
      "cell_type": "markdown",
      "metadata": {
        "id": "fEe8EGKLEy8w",
        "colab_type": "text"
      },
      "source": [
        "#Save generated images"
      ]
    },
    {
      "cell_type": "code",
      "metadata": {
        "id": "Xh-NrSxNE1u0",
        "colab_type": "code",
        "colab": {}
      },
      "source": [
        "learn_gen.load('gen-pre2')"
      ],
      "execution_count": null,
      "outputs": []
    },
    {
      "cell_type": "code",
      "metadata": {
        "id": "z9crwUvSznZl",
        "colab_type": "code",
        "colab": {}
      },
      "source": [
        "name_gen = 'image_gen'\n",
        "path_gen = path/name_gen"
      ],
      "execution_count": null,
      "outputs": []
    },
    {
      "cell_type": "code",
      "metadata": {
        "id": "Ebptxsf_01r8",
        "colab_type": "code",
        "colab": {}
      },
      "source": [
        "# shutil.rmtree(path_gen)"
      ],
      "execution_count": null,
      "outputs": []
    },
    {
      "cell_type": "code",
      "metadata": {
        "id": "w-wzUGh-0-W2",
        "colab_type": "code",
        "colab": {}
      },
      "source": [
        "path_gen.mkdir(exist_ok=True)"
      ],
      "execution_count": null,
      "outputs": []
    },
    {
      "cell_type": "code",
      "metadata": {
        "id": "bLAzrxPs1Al7",
        "colab_type": "code",
        "colab": {}
      },
      "source": [
        "def save_preds(dl):\n",
        "    i=0\n",
        "    names = dl.dataset.items\n",
        "    \n",
        "    for b in dl:\n",
        "        preds = learn_gen.pred_batch(batch=b, reconstruct=True)\n",
        "        for o in preds:\n",
        "            o.save(path_gen/names[i].name)\n",
        "            i += 1"
      ],
      "execution_count": null,
      "outputs": []
    },
    {
      "cell_type": "code",
      "metadata": {
        "id": "Fh5ETtmU1fat",
        "colab_type": "code",
        "colab": {}
      },
      "source": [
        "save_preds(data_gen.fix_dl)\n",
        "PIL.Image.open(path_gen.ls()[0])"
      ],
      "execution_count": null,
      "outputs": []
    },
    {
      "cell_type": "markdown",
      "metadata": {
        "id": "S_QAfCBH1nrB",
        "colab_type": "text"
      },
      "source": [
        "#Train critic"
      ]
    },
    {
      "cell_type": "code",
      "metadata": {
        "id": "iWilCBM71pSd",
        "colab_type": "code",
        "colab": {}
      },
      "source": [
        "learn_gen = None\n",
        "gc.collect()"
      ],
      "execution_count": null,
      "outputs": []
    },
    {
      "cell_type": "code",
      "metadata": {
        "id": "xlMg4vuM1tfq",
        "colab_type": "code",
        "colab": {}
      },
      "source": [
        "#pre-train criticl on crappy vs not crappy images\n",
        "def get_crit_data(classes, bs, size):\n",
        "  src = ImageList.from_folder(path, include=classes).split_by_rand_pct(0.1, seed =42)\n",
        "  ll = src.label_from_folder(classes=classes)\n",
        "  data = (ll.transform(get_transforms(max_zoom=2), size=size).databunch(bs=bs).normalize(imagenet_stats))\n",
        "  data.c = 3\n",
        "  return data"
      ],
      "execution_count": null,
      "outputs": []
    },
    {
      "cell_type": "code",
      "metadata": {
        "id": "StYAz2SP2yMa",
        "colab_type": "code",
        "colab": {}
      },
      "source": [
        "data_crit = get_crit_data([name_gen, 'images'], bs=bs, size=size)\n",
        "data_crit.show_batch(rows=3, ds_type= DatasetType.Train, imgsize=3)"
      ],
      "execution_count": null,
      "outputs": []
    },
    {
      "cell_type": "code",
      "metadata": {
        "id": "bmIE4Gts3B_h",
        "colab_type": "code",
        "colab": {}
      },
      "source": [
        "loss_critic = AdaptiveLoss(nn.BCEWithLogitsLoss())"
      ],
      "execution_count": null,
      "outputs": []
    },
    {
      "cell_type": "code",
      "metadata": {
        "id": "9xyTtaq34N7Z",
        "colab_type": "code",
        "colab": {}
      },
      "source": [
        "def create_critic_learner(data, metrics):\n",
        "  return Learner(data, gan_critic(), metrics=metrics, loss_func=loss_critic, wd=wd)"
      ],
      "execution_count": null,
      "outputs": []
    },
    {
      "cell_type": "code",
      "metadata": {
        "id": "xbxSugss4iLn",
        "colab_type": "code",
        "colab": {}
      },
      "source": [
        "learn_critic = create_critic_learner(data_crit, accuracy_thresh_expand)"
      ],
      "execution_count": null,
      "outputs": []
    },
    {
      "cell_type": "code",
      "metadata": {
        "id": "2dgAN-eP4rFK",
        "colab_type": "code",
        "colab": {}
      },
      "source": [
        "learn_critic.fit_one_cycle(6, 1e-3)"
      ],
      "execution_count": null,
      "outputs": []
    },
    {
      "cell_type": "code",
      "metadata": {
        "id": "HeUX19kR436l",
        "colab_type": "code",
        "colab": {}
      },
      "source": [
        "learn_critic.save('critic-pre2')"
      ],
      "execution_count": null,
      "outputs": []
    },
    {
      "cell_type": "markdown",
      "metadata": {
        "id": "4ngiYiHJ4-mW",
        "colab_type": "text"
      },
      "source": [
        "#GAN\n",
        "Combine critic and resnet loss"
      ]
    },
    {
      "cell_type": "code",
      "metadata": {
        "id": "33yJAtxa4_VW",
        "colab_type": "code",
        "colab": {}
      },
      "source": [
        "learn_crit = None\n",
        "learn_gen = None\n",
        "gc.collect()"
      ],
      "execution_count": null,
      "outputs": []
    },
    {
      "cell_type": "code",
      "metadata": {
        "id": "AwHI2pBm5UeX",
        "colab_type": "code",
        "colab": {}
      },
      "source": [
        "data_crit = get_crit_data(['crappy', 'images'], bs=bs, size=size)"
      ],
      "execution_count": null,
      "outputs": []
    },
    {
      "cell_type": "code",
      "metadata": {
        "id": "qWko9e945fBH",
        "colab_type": "code",
        "colab": {}
      },
      "source": [
        "learn_crit = create_critic_learner(data_crit, metrics=None).load('critic-pre2')"
      ],
      "execution_count": null,
      "outputs": []
    },
    {
      "cell_type": "code",
      "metadata": {
        "id": "msvq4P2Y5obE",
        "colab_type": "code",
        "colab": {}
      },
      "source": [
        "learn_gen = create_gen_learner().load('gen-pre2')"
      ],
      "execution_count": null,
      "outputs": []
    },
    {
      "cell_type": "code",
      "metadata": {
        "id": "4YHx-IK17DkA",
        "colab_type": "code",
        "colab": {}
      },
      "source": [
        "switcher = partial(AdaptiveGANSwitcher, critic_thresh=0.65)\n",
        "learn = GANLearner.from_learners(learn_gen, learn_crit, weights_gen=(1.,50.), show_img=False, switcher=switcher, opt_func=partial(optim.Adam, betas=(0.,0.99)), wd=wd)\n",
        "learn.callback_fns.append(partial(GANDiscriminativeLR, mult_lr=5.))"
      ],
      "execution_count": null,
      "outputs": []
    },
    {
      "cell_type": "code",
      "metadata": {
        "id": "EV65uUoC7M4n",
        "colab_type": "code",
        "colab": {}
      },
      "source": [
        "lr = 1e-4"
      ],
      "execution_count": null,
      "outputs": []
    },
    {
      "cell_type": "code",
      "metadata": {
        "id": "2s9MH6dm7NLr",
        "colab_type": "code",
        "colab": {}
      },
      "source": [
        "learn.fit(40,lr)"
      ],
      "execution_count": null,
      "outputs": []
    },
    {
      "cell_type": "code",
      "metadata": {
        "id": "Hh9q0De47OQi",
        "colab_type": "code",
        "colab": {}
      },
      "source": [
        "learn.save('gan-1c')"
      ],
      "execution_count": null,
      "outputs": []
    },
    {
      "cell_type": "code",
      "metadata": {
        "id": "fAwxy9A47QNr",
        "colab_type": "code",
        "colab": {}
      },
      "source": [
        "learn.data=get_data(16,192)"
      ],
      "execution_count": null,
      "outputs": []
    },
    {
      "cell_type": "code",
      "metadata": {
        "id": "ulyEtYKL7Rui",
        "colab_type": "code",
        "colab": {}
      },
      "source": [
        "learn.fit(10,lr/2)"
      ],
      "execution_count": null,
      "outputs": []
    },
    {
      "cell_type": "code",
      "metadata": {
        "id": "9BGSAovI7S9n",
        "colab_type": "code",
        "colab": {}
      },
      "source": [
        "learn.show_results(rows=4)"
      ],
      "execution_count": null,
      "outputs": []
    },
    {
      "cell_type": "code",
      "metadata": {
        "id": "jXi0f_R87UlP",
        "colab_type": "code",
        "colab": {}
      },
      "source": [
        "learn.save('gan-1c')"
      ],
      "execution_count": null,
      "outputs": []
    }
  ]
}